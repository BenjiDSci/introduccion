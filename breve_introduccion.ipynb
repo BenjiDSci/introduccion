{
 "cells": [
  {
   "cell_type": "markdown",
   "metadata": {},
   "source": [
    "# Python\n",
    "Aspectos Básicos\n",
    "Python es un lenguaje de programación interpretado cuya filosofía hace hincapié en una sintaxis que favorezca un código legible.\n",
    "\n",
    "Se trata de un lenguaje de programación multiparadigma, ya que soporta orientación a objetos, programación imperativa y, en menor medida, programación funcional. Es un lenguaje interpretado, dinámico y multiplataforma."
   ]
  },
  {
   "cell_type": "code",
   "execution_count": null,
   "metadata": {},
   "outputs": [],
   "source": [
    "# ASIGNACIÓN DE VARIABLES (str, int, float, bol)\n",
    "\n",
    "w = 4.5 # flotante D(-inf,inf)\n",
    "x = 5   # entero   D(-inf,inf)\n",
    "y = 'hola mundo' # string/cadena de caracteres\n",
    "z = True # boleano\n",
    "\n",
    "print(w, type(w)) # Prueba imprimiendo las cuatro variables y el tipo de variable que es usando type()"
   ]
  },
  {
   "cell_type": "code",
   "execution_count": null,
   "metadata": {},
   "outputs": [],
   "source": [
    "# OPERACIONES BÁSICAS\n",
    "\n",
    "x = 5\n",
    "y = 10\n",
    "\n",
    "# Suma\n",
    "suma = x+y\n",
    "# Resta\n",
    "resta = x-y\n",
    "# Multiplicación\n",
    "multiplicacion = x*y\n",
    "# División\n",
    "division = y/x\n",
    "\n",
    "print(suma, resta, multiplicacion, division)"
   ]
  },
  {
   "cell_type": "code",
   "execution_count": null,
   "metadata": {},
   "outputs": [],
   "source": [
    "# EJERCICIO 1\n",
    "# Calcula la pendiente de la recta dadas los puntos siguientes:\n",
    "x1 = 5\n",
    "y1 = 10\n",
    "x2 = 6\n",
    "y2 = 12\n",
    "p = ?\n",
    "print(p)"
   ]
  },
  {
   "cell_type": "code",
   "execution_count": null,
   "metadata": {},
   "outputs": [],
   "source": [
    "# LISTAS\n",
    "\n",
    "# Una lista en Python es una estructura de datos formada por una secuencia ordenada de objetos.\n",
    "# Las listas en Python son:\n",
    "#             heterogéneas: pueden estar conformadas por elementos de distintos tipo, incluidos otras listas.\n",
    "#             mutables: sus elementos pueden modificarse.\n",
    "\n",
    "#Ejemplo\n",
    "lista = ['pan', 'huevos', 100, 1234]\n",
    "print(lista)"
   ]
  },
  {
   "cell_type": "code",
   "execution_count": null,
   "metadata": {},
   "outputs": [],
   "source": [
    "# Al ser mutables estas listas podemos acceder y operar con cada unos de los elementos contenidos\n",
    "#Ejemplo\n",
    "lista_de_numeros = [1,2,3,4,5,6,7,8,9,10]\n",
    "tamaño = len(lista_de_numeros) # con la función len() podemos obtener el tamaño de la lista, y no solo de una lista, también otros objetos\n",
    "print(tamaño)\n",
    "elemento_5 = lista_de_numeros[5] # accedemos de esta manera al elemento en la posicion 5 de la lista\n",
    "print(elemento_5)\n",
    "lista_de_numeros[4] = 15 # accedemos al elemento en la posision 4 y cambiamos el valor por un 15\n",
    "print(lista_de_numeros)\n",
    "varios = lista_de_numeros[4:9] # accedemos a los elementos de la lista desde la posicion 4 hasta la 9 usando \":\"\n",
    "print(varios)\n",
    "suma = sum(lista_de_numeros)\n",
    "print(suma)"
   ]
  },
  {
   "cell_type": "code",
   "execution_count": null,
   "metadata": {
    "scrolled": true
   },
   "outputs": [],
   "source": [
    "# EJERCICIO 2\n",
    "\n",
    "lista_ej = [2,2,3,7,9,3,4,2,7,9,8,9,7,0,3,5,6,4]\n",
    "\n",
    "# Calcula el promedio de la lista dada\n",
    "promedio = ?\n",
    "print(promedio)\n",
    "\n",
    "# Suma todos los elementos a partir de la tercera posición\n",
    "suma = ?\n",
    "print(suma)\n",
    "\n",
    "# Resta al último elemento el primero\n",
    "resta = ?\n"
   ]
  }
 ],
 "metadata": {
  "kernelspec": {
   "display_name": "Python 3",
   "language": "python",
   "name": "python3"
  },
  "language_info": {
   "codemirror_mode": {
    "name": "ipython",
    "version": 3
   },
   "file_extension": ".py",
   "mimetype": "text/x-python",
   "name": "python",
   "nbconvert_exporter": "python",
   "pygments_lexer": "ipython3",
   "version": "3.7.1"
  }
 },
 "nbformat": 4,
 "nbformat_minor": 2
}
